{
 "cells": [
  {
   "cell_type": "markdown",
   "metadata": {},
   "source": [
    "- Update config.yml\n",
    "- Update params.yml\n",
    "- Update entity\n",
    "- Update the configuration manager in src config\n",
    "- Update the components\n",
    "- Update the pipeline\n",
    "- Update main.py\n",
    "- Update app.py"
   ]
  },
  {
   "cell_type": "code",
   "execution_count": 1,
   "metadata": {},
   "outputs": [],
   "source": [
    "import os "
   ]
  },
  {
   "cell_type": "code",
   "execution_count": 2,
   "metadata": {},
   "outputs": [
    {
     "data": {
      "text/plain": [
       "'d:\\\\Project\\\\Text-Summarizer\\\\textSummarizer\\\\src\\\\textSummarizer\\\\notebooks'"
      ]
     },
     "execution_count": 2,
     "metadata": {},
     "output_type": "execute_result"
    }
   ],
   "source": [
    "%pwd"
   ]
  },
  {
   "cell_type": "code",
   "execution_count": 3,
   "metadata": {},
   "outputs": [],
   "source": [
    "os.chdir(\"../../../\")"
   ]
  },
  {
   "cell_type": "code",
   "execution_count": 4,
   "metadata": {},
   "outputs": [
    {
     "data": {
      "text/plain": [
       "'d:\\\\Project\\\\Text-Summarizer\\\\textSummarizer'"
      ]
     },
     "execution_count": 4,
     "metadata": {},
     "output_type": "execute_result"
    }
   ],
   "source": [
    "%pwd"
   ]
  },
  {
   "cell_type": "code",
   "execution_count": 5,
   "metadata": {},
   "outputs": [],
   "source": [
    "# Update entity\n",
    "from dataclasses import dataclass\n",
    "from pathlib import Path\n",
    "\n",
    "@dataclass(frozen=True)\n",
    "class DataValidationConfig:\n",
    "    root_dir: Path\n",
    "    status_file: str\n",
    "    required_files: list"
   ]
  },
  {
   "cell_type": "code",
   "execution_count": 6,
   "metadata": {},
   "outputs": [],
   "source": [
    "from textSummarizer.constants import *\n",
    "from textSummarizer.utils.common import read_yaml, create_directories\n",
    "\n",
    "# Update the configuration manager in src config\n",
    "class ConfigurationManager:\n",
    "    def __init__(self, config_filepath = CONFIG_FILE_PATH, params_filepath = PARAMS_FILE_PATH):\n",
    "        self.config = read_yaml(config_filepath)\n",
    "        self.params = read_yaml(params_filepath)\n",
    "        create_directories([self.config.artifact_root])\n",
    "\n",
    "    def get_data_validation_config(self) -> DataValidationConfig:\n",
    "        config = self.config.data_validation\n",
    "        create_directories([config.root_dir])\n",
    "    \n",
    "        data_validation_config = DataValidationConfig(\n",
    "            root_dir=config.root_dir,\n",
    "            status_file=config.status_file,\n",
    "            required_files=config.required_files\n",
    "        )\n",
    "        return data_validation_config\n"
   ]
  },
  {
   "cell_type": "code",
   "execution_count": 7,
   "metadata": {},
   "outputs": [
    {
     "name": "stdout",
     "output_type": "stream",
     "text": [
      "[2025-03-30 23:25:44,540 - INFO - (common)]: YAML file config\\config.yaml loaded successfully.\n",
      "[2025-03-30 23:25:44,542 - INFO - (common)]: YAML file parameters.yaml loaded successfully.\n",
      "[2025-03-30 23:25:44,543 - INFO - (common)]: Directory artifacts created or already exists.\n",
      "[2025-03-30 23:25:44,544 - INFO - (common)]: Directory artifacts/data_validation created or already exists.\n"
     ]
    }
   ],
   "source": [
    "x = ConfigurationManager()\n",
    "x = x.get_data_validation_config()"
   ]
  },
  {
   "cell_type": "code",
   "execution_count": 8,
   "metadata": {},
   "outputs": [],
   "source": [
    "# Update the components\n",
    "import os\n",
    "from textSummarizer.logging import logger\n"
   ]
  },
  {
   "cell_type": "code",
   "execution_count": 9,
   "metadata": {},
   "outputs": [],
   "source": [
    "class DataValidation:\n",
    "    def __init__(self, config: DataValidationConfig):\n",
    "        self.config = config\n",
    "\n",
    "    def validate_all_files(self) -> bool:\n",
    "        try :\n",
    "            validation_status = None\n",
    "            all_files = os.listdir(os.path.join(\"artifacts\", \"data_ingestion\", \"samsum_dataset\"))\n",
    "\n",
    "            for file in all_files:\n",
    "                if file not in self.config.required_files:\n",
    "                    validation_status = False\n",
    "                    with open(self.config.status_file, \"w\") as f:\n",
    "                        f.write(f\"File {file} is not present in the directory \\n\")\n",
    "                        f.write(f\"Validation status: {validation_status} \\n\")\n",
    "                else:\n",
    "                    validation_status = True\n",
    "                    with open(self.config.status_file, \"w\") as f:\n",
    "                        f.write(f\"All required files are present in the directory \\n\")\n",
    "                        f.write(f\"Validation status: {validation_status} \\n\")\n",
    "\n",
    "            return validation_status\n",
    "        \n",
    "        except Exception as e:\n",
    "            raise e"
   ]
  },
  {
   "cell_type": "code",
   "execution_count": 10,
   "metadata": {},
   "outputs": [],
   "source": [
    "x = DataValidation(x)\n",
    "x = x.validate_all_files()"
   ]
  },
  {
   "cell_type": "code",
   "execution_count": 11,
   "metadata": {},
   "outputs": [
    {
     "name": "stdout",
     "output_type": "stream",
     "text": [
      "[2025-03-30 23:25:44,599 - INFO - (common)]: YAML file config\\config.yaml loaded successfully.\n",
      "[2025-03-30 23:25:44,600 - INFO - (common)]: YAML file parameters.yaml loaded successfully.\n",
      "[2025-03-30 23:25:44,601 - INFO - (common)]: Directory artifacts created or already exists.\n",
      "[2025-03-30 23:25:44,602 - INFO - (common)]: Directory artifacts/data_validation created or already exists.\n"
     ]
    }
   ],
   "source": [
    "# Update the pipeline\n",
    "try:\n",
    "    config = ConfigurationManager()\n",
    "    data_validation_config = config.get_data_validation_config()\n",
    "    data_validation = DataValidation(config=data_validation_config)\n",
    "    data_validation.validate_all_files()\n",
    "except Exception as e:\n",
    "    raise e"
   ]
  }
 ],
 "metadata": {
  "kernelspec": {
   "display_name": "textS",
   "language": "python",
   "name": "python3"
  },
  "language_info": {
   "codemirror_mode": {
    "name": "ipython",
    "version": 3
   },
   "file_extension": ".py",
   "mimetype": "text/x-python",
   "name": "python",
   "nbconvert_exporter": "python",
   "pygments_lexer": "ipython3",
   "version": "3.8.20"
  }
 },
 "nbformat": 4,
 "nbformat_minor": 2
}
