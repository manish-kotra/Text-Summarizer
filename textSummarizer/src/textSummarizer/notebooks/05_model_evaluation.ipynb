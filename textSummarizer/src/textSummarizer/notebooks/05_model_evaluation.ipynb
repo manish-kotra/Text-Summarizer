{
 "cells": [
  {
   "cell_type": "markdown",
   "metadata": {},
   "source": [
    "- Update config.yml\n",
    "- Update params.yml\n",
    "- Update entity\n",
    "- Update the configuration manager in src config\n",
    "- Update the components\n",
    "- Update the pipeline\n",
    "- Update main.py\n",
    "- Update app.py"
   ]
  },
  {
   "cell_type": "code",
   "execution_count": 1,
   "metadata": {},
   "outputs": [
    {
     "data": {
      "text/plain": [
       "'d:\\\\Project\\\\Text-Summarizer\\\\textSummarizer'"
      ]
     },
     "execution_count": 1,
     "metadata": {},
     "output_type": "execute_result"
    }
   ],
   "source": [
    "import os \n",
    "%pwd\n",
    "os.chdir(\"../../../\")\n",
    "%pwd"
   ]
  },
  {
   "cell_type": "code",
   "execution_count": 2,
   "metadata": {},
   "outputs": [],
   "source": [
    "# Update entity\n",
    "from dataclasses import dataclass\n",
    "from pathlib import Path\n",
    "\n",
    "@dataclass(frozen=True)\n",
    "class ModelEvalConfig:\n",
    "    root_dir: Path\n",
    "    data_path: Path\n",
    "    model_path: Path\n",
    "    tokenizer_path: Path\n",
    "    metric_file_name: Path"
   ]
  },
  {
   "cell_type": "code",
   "execution_count": 3,
   "metadata": {},
   "outputs": [],
   "source": [
    "from textSummarizer.constants import *\n",
    "from textSummarizer.utils.common import read_yaml, create_directories\n",
    "\n",
    "\n",
    "# Update the configuration manager in src config\n",
    "class ConfigurationManager:\n",
    "    def __init__(self, config_filepath = CONFIG_FILE_PATH, params_filepath = PARAMS_FILE_PATH):\n",
    "        self.config = read_yaml(config_filepath)\n",
    "        self.params = read_yaml(params_filepath)\n",
    "        create_directories([self.config.artifact_root])\n",
    "\n",
    "    def get_model_eval_config(self) -> ModelEvalConfig:\n",
    "        config = self.config.model_evaluation\n",
    "        create_directories([config.root_dir])\n",
    "    \n",
    "        data_config = ModelEvalConfig(\n",
    "            root_dir=config.root_dir,\n",
    "            data_path=config.data_path,\n",
    "            model_path= config.model_path,\n",
    "            tokenizer_path= config.tokenizer_path,\n",
    "            metric_file_name= config.metric_file_name,\n",
    "        )\n",
    "        return data_config"
   ]
  },
  {
   "cell_type": "code",
   "execution_count": 4,
   "metadata": {},
   "outputs": [
    {
     "name": "stdout",
     "output_type": "stream",
     "text": [
      "[2025-04-07 13:47:48,863 - INFO - (common)]: YAML file config\\config.yaml loaded successfully.\n",
      "[2025-04-07 13:47:48,865 - INFO - (common)]: YAML file parameters.yaml loaded successfully.\n",
      "[2025-04-07 13:47:48,866 - INFO - (common)]: Directory artifacts created or already exists.\n",
      "[2025-04-07 13:47:48,867 - INFO - (common)]: Directory artifacts/model_evaluation created or already exists.\n"
     ]
    }
   ],
   "source": [
    "x = ConfigurationManager()\n",
    "x = x.get_model_eval_config()"
   ]
  },
  {
   "cell_type": "code",
   "execution_count": 5,
   "metadata": {},
   "outputs": [
    {
     "name": "stderr",
     "output_type": "stream",
     "text": [
      "c:\\Users\\manis\\anaconda3\\envs\\textS\\lib\\site-packages\\tqdm\\auto.py:21: TqdmWarning: IProgress not found. Please update jupyter and ipywidgets. See https://ipywidgets.readthedocs.io/en/stable/user_install.html\n",
      "  from .autonotebook import tqdm as notebook_tqdm\n"
     ]
    },
    {
     "name": "stdout",
     "output_type": "stream",
     "text": [
      "[2025-04-07 13:47:53,079 - INFO - (config)]: PyTorch version 2.4.1+cu124 available.\n"
     ]
    }
   ],
   "source": [
    "import torch\n",
    "from transformers import (AutoModelForSeq2SeqLM, AutoTokenizer, \n",
    "                            Trainer, TrainingArguments, DataCollatorForSeq2Seq)\n",
    "from tqdm import tqdm\n",
    "from datasets import load_dataset, load_from_disk\n",
    "from evaluate import load\n",
    "import pandas as pd"
   ]
  },
  {
   "cell_type": "code",
   "execution_count": null,
   "metadata": {},
   "outputs": [],
   "source": [
    "class ModelEvaluation:\n",
    "    def __init__(self, config: ModelEvalConfig):\n",
    "        self.config = config\n",
    "        self.tokenizer = AutoTokenizer.from_pretrained(config.tokenizer_path)\n",
    "        self.model = AutoModelForSeq2SeqLM.from_pretrained(config.model_path)\n",
    "        self.device = torch.device(\"cuda\" if torch.cuda.is_available() else \"cpu\")\n",
    "\n",
    "    def generate_batch_sized_chunks(self, list_of_elements, batch_size):\n",
    "        \"\"\"Split the dataset into smaller batches that we can process simultaneously.\n",
    "        Yield successive batch-sized chunks from list_of_elements.\"\"\"\n",
    "        for i in range(0, len(list_of_elements), batch_size):\n",
    "            yield list_of_elements[i : i + batch_size]\n",
    "\n",
    "\n",
    "    def calculate_metric_on_test_ds(self, dataset, metric, model, tokenizer,\n",
    "                                batch_size=2,\n",
    "                                column_text=\"article\",\n",
    "                                column_summary=\"highlights\"):\n",
    "        article_batches = list(self.generate_batch_sized_chunks(dataset[column_text], batch_size))\n",
    "        target_batches = list(self.generate_batch_sized_chunks(dataset[column_summary], batch_size))\n",
    "\n",
    "        all_predictions = []\n",
    "        all_references = []\n",
    "\n",
    "        for article_batch, target_batch in tqdm(\n",
    "            zip(article_batches, target_batches), total=len(article_batches)):\n",
    "\n",
    "            inputs = tokenizer(article_batch, max_length=1024,  truncation=True,\n",
    "                            padding=\"max_length\", return_tensors=\"pt\")\n",
    "\n",
    "            summaries = model.generate(input_ids=inputs[\"input_ids\"].to(self.device),\n",
    "                            attention_mask=inputs[\"attention_mask\"].to(self.device),\n",
    "                            length_penalty=0.8, num_beams=8, max_length=128)\n",
    "\n",
    "            decoded_summaries = [tokenizer.decode(s, skip_special_tokens=True,\n",
    "                                    clean_up_tokenization_spaces=True)\n",
    "                for s in summaries]\n",
    "\n",
    "            decoded_summaries = [d.replace(\"\", \" \") for d in decoded_summaries]\n",
    "\n",
    "            all_predictions.extend(decoded_summaries)\n",
    "            all_references.extend(target_batch)\n",
    "\n",
    "        # Compute and return ROUGE scores\n",
    "        score = metric.compute(predictions=all_predictions, references=all_references)\n",
    "        return score\n",
    "    \n",
    "\n",
    "    def evaluate(self):\n",
    "        tokenizer = self.tokenizer\n",
    "        model = self.model.to(self.device)\n",
    "\n",
    "        # Load the dataset\n",
    "        dataset_samsum = load_from_disk(self.config.data_path)\n",
    "\n",
    "        # Load the metric\n",
    "        rouge_metric = load(\"rouge\")\n",
    "\n",
    "        score = self.calculate_metric_on_test_ds(dataset_samsum['test'][0:10], rouge_metric,\n",
    "                                    model, tokenizer,\n",
    "                                    batch_size=2,\n",
    "                                    column_text=\"dialogue\",\n",
    "                                    column_summary=\"summary\")\n",
    "\n",
    "        rouge_scores = {key: score[key] for key in [\"rouge1\", \"rouge2\", \"rougeL\", \"rougeLsum\"]}\n",
    "\n",
    "        df = pd.DataFrame(rouge_scores, index = [f'pegasus'] )\n",
    "        df.to_csv(self.config.metric_file_name, index=False)"
   ]
  },
  {
   "cell_type": "code",
   "execution_count": 7,
   "metadata": {},
   "outputs": [
    {
     "name": "stderr",
     "output_type": "stream",
     "text": [
      "100%|██████████| 5/5 [01:31<00:00, 18.39s/it]"
     ]
    },
    {
     "name": "stdout",
     "output_type": "stream",
     "text": [
      "[2025-04-07 13:49:34,771 - INFO - (rouge_scorer)]: Using default tokenizer.\n"
     ]
    },
    {
     "name": "stderr",
     "output_type": "stream",
     "text": [
      "\n"
     ]
    }
   ],
   "source": [
    "x = ModelEvaluation(x)\n",
    "x = x.evaluate()"
   ]
  },
  {
   "cell_type": "code",
   "execution_count": null,
   "metadata": {},
   "outputs": [],
   "source": [
    "# Update the pipeline\n",
    "try:\n",
    "    config = ConfigurationManager()\n",
    "    data_config = config.get_model_eval_config()\n",
    "    model_evaluator = ModelEvaluation(config=data_config)\n",
    "    model_evaluator.evaluate()\n",
    "except Exception as e:\n",
    "    raise e"
   ]
  }
 ],
 "metadata": {
  "kernelspec": {
   "display_name": "textS",
   "language": "python",
   "name": "python3"
  },
  "language_info": {
   "codemirror_mode": {
    "name": "ipython",
    "version": 3
   },
   "file_extension": ".py",
   "mimetype": "text/x-python",
   "name": "python",
   "nbconvert_exporter": "python",
   "pygments_lexer": "ipython3",
   "version": "3.8.20"
  }
 },
 "nbformat": 4,
 "nbformat_minor": 2
}
